{
 "metadata": {
  "name": "",
  "signature": "sha256:8e13ba1055605a148ab198cb4c31a0c402d7cd64c943aec389e6e93b590881a2"
 },
 "nbformat": 3,
 "nbformat_minor": 0,
 "worksheets": [
  {
   "cells": [
    {
     "cell_type": "markdown",
     "metadata": {},
     "source": [
      "# Lab 03 - Numpy Intro"
     ]
    },
    {
     "cell_type": "code",
     "collapsed": false,
     "input": [
      "# Standard imports for data analysis packages in Python\n",
      "import pandas as pd\n",
      "import numpy as np\n",
      "import seaborn as sns\n",
      "import matplotlib.pyplot as plt\n",
      "from IPython.display import Image\n",
      "\n",
      "# This enables inline Plots\n",
      "%matplotlib inline\n",
      "\n",
      "# Limit rows displayed in notebook\n",
      "pd.set_option('display.max_rows', 10)\n",
      "pd.set_option('display.precision', 2)"
     ],
     "language": "python",
     "metadata": {},
     "outputs": [],
     "prompt_number": 1
    },
    {
     "cell_type": "code",
     "collapsed": false,
     "input": [
      "print 'Pandas Version: ', pd.__version__\n",
      "print 'Numpy Version: ', np.__version__"
     ],
     "language": "python",
     "metadata": {},
     "outputs": [
      {
       "output_type": "stream",
       "stream": "stdout",
       "text": [
        "Pandas Version:  0.14.1\n",
        "Numpy Version:  1.9.0\n"
       ]
      }
     ],
     "prompt_number": 2
    },
    {
     "cell_type": "markdown",
     "metadata": {},
     "source": [
      "## Numpy\n",
      "\n",
      "* Pandas is built on top of Numpy.  Each Column in a Pandas DataFrame is a Numpy Array\n",
      "* Plotting functions (matplotlib) needs Numpy Arrays as input\n",
      "* Scikit-Learn needs Numpy Array as Input for Features and Lables and building Models\n",
      "\n",
      "Let's do a overview of Numpy Data Structures and Functions.\n",
      "\n",
      "### Data Strcutres\n",
      "\n",
      "* Arrays\n",
      "* Matrices"
     ]
    },
    {
     "cell_type": "markdown",
     "metadata": {},
     "source": [
      "#### Arrays"
     ]
    },
    {
     "cell_type": "code",
     "collapsed": false,
     "input": [
      "# One Dimensional Array\n",
      "arr1 = np.array([1, 2, 3, 4, 5, 6])\n",
      "print 'Shape of Array: ', arr1.shape\n",
      "print 'Type of object: ', type(arr1)\n",
      "print 'Type of contents: ', arr1.dtype\n",
      "print 'Size (elements): ', arr1.size\n",
      "print 'ndim (number of dim): ', arr1.ndim\n",
      "print arr1"
     ],
     "language": "python",
     "metadata": {},
     "outputs": [
      {
       "output_type": "stream",
       "stream": "stdout",
       "text": [
        "Shape of Array:  (6,)\n",
        "Type of object:  <type 'numpy.ndarray'>\n",
        "Type of contents:  int64\n",
        "Size (elements):  6\n",
        "ndim (number of dim):  1\n",
        "[1 2 3 4 5 6]\n"
       ]
      }
     ],
     "prompt_number": 3
    },
    {
     "cell_type": "code",
     "collapsed": false,
     "input": [
      "# Selecting elements from array (Slicing)\n",
      "arr1[1]"
     ],
     "language": "python",
     "metadata": {},
     "outputs": [
      {
       "metadata": {},
       "output_type": "pyout",
       "prompt_number": 4,
       "text": [
        "2"
       ]
      }
     ],
     "prompt_number": 4
    },
    {
     "cell_type": "code",
     "collapsed": false,
     "input": [
      "# Selecting a range - notice that it starts at lower limit upto the upper limt (not including).  Same behavior as Python list\n",
      "arr1[1:3]"
     ],
     "language": "python",
     "metadata": {},
     "outputs": [
      {
       "metadata": {},
       "output_type": "pyout",
       "prompt_number": 5,
       "text": [
        "array([2, 3])"
       ]
      }
     ],
     "prompt_number": 5
    },
    {
     "cell_type": "markdown",
     "metadata": {},
     "source": [
      "#### Assigning Values"
     ]
    },
    {
     "cell_type": "code",
     "collapsed": false,
     "input": [
      "# You can assign values individually\n",
      "arr1[0] = 10\n",
      "arr1"
     ],
     "language": "python",
     "metadata": {},
     "outputs": [
      {
       "metadata": {},
       "output_type": "pyout",
       "prompt_number": 6,
       "text": [
        "array([10,  2,  3,  4,  5,  6])"
       ]
      }
     ],
     "prompt_number": 6
    },
    {
     "cell_type": "code",
     "collapsed": false,
     "input": [
      "# Or Assign a indivual value to a range\n",
      "arr1[1:] = 20  # Start at 1st element till END\n",
      "arr1"
     ],
     "language": "python",
     "metadata": {},
     "outputs": [
      {
       "metadata": {},
       "output_type": "pyout",
       "prompt_number": 7,
       "text": [
        "array([10, 20, 20, 20, 20, 20])"
       ]
      }
     ],
     "prompt_number": 7
    },
    {
     "cell_type": "code",
     "collapsed": false,
     "input": [
      "# Two Dimensional Array\n",
      "arr2 = np.array([[1, 2, 3], [4, 5, 6]])\n",
      "print 'Shape of Array: ', arr2.shape\n",
      "print 'Type of object: ', type(arr2)\n",
      "print 'Type of contents: ', arr2.dtype\n",
      "print 'Size (elements): ', arr2.size\n",
      "print 'ndim (number of dim): ', arr2.ndim\n",
      "print arr2"
     ],
     "language": "python",
     "metadata": {},
     "outputs": [
      {
       "output_type": "stream",
       "stream": "stdout",
       "text": [
        "Shape of Array:  (2, 3)\n",
        "Type of object:  <type 'numpy.ndarray'>\n",
        "Type of contents:  int64\n",
        "Size (elements):  6\n",
        "ndim (number of dim):  2\n",
        "[[1 2 3]\n",
        " [4 5 6]]\n"
       ]
      }
     ],
     "prompt_number": 8
    },
    {
     "cell_type": "code",
     "collapsed": false,
     "input": [
      "# Reshape One-D to Two-D Array\n",
      "arr1.reshape(2, 3)"
     ],
     "language": "python",
     "metadata": {},
     "outputs": [
      {
       "metadata": {},
       "output_type": "pyout",
       "prompt_number": 9,
       "text": [
        "array([[10, 20, 20],\n",
        "       [20, 20, 20]])"
       ]
      }
     ],
     "prompt_number": 9
    },
    {
     "cell_type": "code",
     "collapsed": false,
     "input": [
      "arr1.reshape((3, 2))"
     ],
     "language": "python",
     "metadata": {},
     "outputs": [
      {
       "metadata": {},
       "output_type": "pyout",
       "prompt_number": 10,
       "text": [
        "array([[10, 20],\n",
        "       [20, 20],\n",
        "       [20, 20]])"
       ]
      }
     ],
     "prompt_number": 10
    },
    {
     "cell_type": "code",
     "collapsed": false,
     "input": [
      "arr1"
     ],
     "language": "python",
     "metadata": {},
     "outputs": [
      {
       "metadata": {},
       "output_type": "pyout",
       "prompt_number": 11,
       "text": [
        "array([10, 20, 20, 20, 20, 20])"
       ]
      }
     ],
     "prompt_number": 11
    },
    {
     "cell_type": "code",
     "collapsed": false,
     "input": [
      "arr1.reshape((:,))"
     ],
     "language": "python",
     "metadata": {},
     "outputs": [
      {
       "ename": "SyntaxError",
       "evalue": "invalid syntax (<ipython-input-12-a3e9de37a843>, line 1)",
       "output_type": "pyerr",
       "traceback": [
        "\u001b[0;36m  File \u001b[0;32m\"<ipython-input-12-a3e9de37a843>\"\u001b[0;36m, line \u001b[0;32m1\u001b[0m\n\u001b[0;31m    arr1.reshape((:,))\u001b[0m\n\u001b[0m                  ^\u001b[0m\n\u001b[0;31mSyntaxError\u001b[0m\u001b[0;31m:\u001b[0m invalid syntax\n"
       ]
      }
     ],
     "prompt_number": 12
    },
    {
     "cell_type": "code",
     "collapsed": false,
     "input": [
      "# When you add a scalar to an array, it adds it to each element in the array.\n",
      "# This is called broadcasting\n",
      "arr1 + 5"
     ],
     "language": "python",
     "metadata": {},
     "outputs": []
    },
    {
     "cell_type": "code",
     "collapsed": false,
     "input": [
      "# Same thing with other operators on Scalar.  All operations broadcast to each element\n",
      "arr1 * 5"
     ],
     "language": "python",
     "metadata": {},
     "outputs": []
    },
    {
     "cell_type": "code",
     "collapsed": false,
     "input": [
      "# It works on 2-D Arrays too\n",
      "arr2 * 10"
     ],
     "language": "python",
     "metadata": {},
     "outputs": []
    },
    {
     "cell_type": "code",
     "collapsed": false,
     "input": [
      "# Now, lets add two Numpy Arrays\n",
      "arr1 = np.array([1, 2, 3])\n",
      "arr2 = np.array([4, 5, 6])\n",
      "\n",
      "arr1 + arr2"
     ],
     "language": "python",
     "metadata": {},
     "outputs": []
    },
    {
     "cell_type": "code",
     "collapsed": false,
     "input": [
      "# Multiply Two Numpy Arrays\n",
      "arr1 * arr2"
     ],
     "language": "python",
     "metadata": {},
     "outputs": []
    },
    {
     "cell_type": "markdown",
     "metadata": {},
     "source": [
      "Main Idea: ALL Numpy Operations are element-wise operations.\n",
      "\n",
      "* Adding to Numpy Arrays, results in does element-wise addition\n",
      "* Multiplying two Arrays, results in element-wise multiplication"
     ]
    },
    {
     "cell_type": "markdown",
     "metadata": {},
     "source": [
      "#### Exercise 1:  Now do this on Python List.  Do you see any difference\n",
      "\n",
      "* Add two Python lists\n",
      "* Multiple two Python lists\n",
      "* Add a scalar to a Python list\n",
      "* Multiply a Scalar to Python list"
     ]
    },
    {
     "cell_type": "code",
     "collapsed": false,
     "input": [
      "seq1 = [1, 2, 3]\n",
      "seq2 = [4, 5, 6]"
     ],
     "language": "python",
     "metadata": {},
     "outputs": []
    },
    {
     "cell_type": "code",
     "collapsed": false,
     "input": [
      "# Add two Python lists\n",
      "# your code here"
     ],
     "language": "python",
     "metadata": {},
     "outputs": []
    },
    {
     "cell_type": "code",
     "collapsed": false,
     "input": [
      "# Multiply two Python lists\n",
      "# your code here"
     ],
     "language": "python",
     "metadata": {},
     "outputs": []
    },
    {
     "cell_type": "code",
     "collapsed": false,
     "input": [
      "# Add a scalar to a Python list\n",
      "# Hint: seq1 + <number>"
     ],
     "language": "python",
     "metadata": {},
     "outputs": []
    },
    {
     "cell_type": "code",
     "collapsed": false,
     "input": [
      "# Multiply a scalar to a Python list\n",
      "# Hint: seq1 + <number>"
     ],
     "language": "python",
     "metadata": {},
     "outputs": []
    },
    {
     "cell_type": "code",
     "collapsed": false,
     "input": [
      "# How about slicing, does Numpy Array work the same as List?"
     ],
     "language": "python",
     "metadata": {},
     "outputs": []
    },
    {
     "cell_type": "markdown",
     "metadata": {},
     "source": [
      "But when you try to add a scalar value to a list, you will get an error\n",
      "\n",
      "Compare Numpy Array to Python List operations.  \n",
      "\n",
      "* Do you see any difference in behavior in Operations\n",
      "* How about slicing\n",
      "\n",
      "You will see that Numpy's broadcasting is what makes everything else possible in data analysis with Python"
     ]
    },
    {
     "cell_type": "markdown",
     "metadata": {},
     "source": [
      "#### Matrices\n",
      "\n",
      "* Matrix is like an Array, except that all operations are Matrix operations"
     ]
    },
    {
     "cell_type": "code",
     "collapsed": false,
     "input": [
      "# All Matrix objects are multi-dimensional.  See the difference between this and 1-D Arrays in the top\n",
      "mat1 = np.matrix([1, 2, 3])\n",
      "print 'Matrix Shape: ', mat1.shape\n",
      "print mat1"
     ],
     "language": "python",
     "metadata": {},
     "outputs": []
    },
    {
     "cell_type": "markdown",
     "metadata": {},
     "source": [
      "# 2-D Matrix\n",
      "mat2 = np.matrix([[1, 2, 3], [4, 5, 6], [7, 8, 9]])\n",
      "print 'Matrix Shape: ', mat2.shape\n",
      "print mat2"
     ]
    },
    {
     "cell_type": "markdown",
     "metadata": {},
     "source": [
      "#### Matrices are like Arrays, but you can do Matrix Manipulations"
     ]
    },
    {
     "cell_type": "code",
     "collapsed": false,
     "input": [
      "# Addition is Element wise addition\n",
      "mat1 + mat1"
     ],
     "language": "python",
     "metadata": {},
     "outputs": []
    },
    {
     "cell_type": "code",
     "collapsed": false,
     "input": [
      "# Matrix Multipliction\n",
      "mat1 * mat2"
     ],
     "language": "python",
     "metadata": {},
     "outputs": []
    },
    {
     "cell_type": "markdown",
     "metadata": {},
     "source": [
      "We will mostly be using Numpy Arrays.  Infact you can do matrix operations on Matrices too.  But, just wanted to let you know of the Matrix datatype in Numpy."
     ]
    },
    {
     "cell_type": "markdown",
     "metadata": {},
     "source": [
      "### Numpy Functions"
     ]
    },
    {
     "cell_type": "code",
     "collapsed": false,
     "input": [
      "# Create a Numpy array from 1-100\n",
      "np.arange(1, 101)"
     ],
     "language": "python",
     "metadata": {},
     "outputs": []
    },
    {
     "cell_type": "code",
     "collapsed": false,
     "input": [
      "# Python list from 1 to 100.  Notice the similarities\n",
      "print range(1, 101)"
     ],
     "language": "python",
     "metadata": {},
     "outputs": []
    },
    {
     "cell_type": "code",
     "collapsed": false,
     "input": [
      "# Enough of similarities.  Let's show some awesomeness\n",
      "# Create 10 elements between 0 and 1 - linearly separated\n",
      "np.linspace(0, 1, 10)"
     ],
     "language": "python",
     "metadata": {},
     "outputs": []
    },
    {
     "cell_type": "code",
     "collapsed": false,
     "input": [
      "# Now, let's look at some distributions"
     ],
     "language": "python",
     "metadata": {},
     "outputs": []
    },
    {
     "cell_type": "code",
     "collapsed": false,
     "input": [
      "# Normal Dist\n",
      "# Mean of 1, std of 0.1, 10 elements\n",
      "np.random.normal(1, 0.1, 10)"
     ],
     "language": "python",
     "metadata": {},
     "outputs": []
    },
    {
     "cell_type": "code",
     "collapsed": false,
     "input": [
      "# Standard Normal Dist\n",
      "np.random.randn(1, 10)"
     ],
     "language": "python",
     "metadata": {},
     "outputs": []
    },
    {
     "cell_type": "code",
     "collapsed": false,
     "input": [
      "# Look at Other Distribitions - Gamma, binomial etc..\n",
      "# np.random."
     ],
     "language": "python",
     "metadata": {},
     "outputs": []
    },
    {
     "cell_type": "markdown",
     "metadata": {},
     "source": [
      "* Remember the imputation of Age we did for Titanic last week with the Mean Age Value?  Now that you know about Numpy distributions, you can impute the age for missing values with Normal Distribution centered on Mean Age and Std dev of Age.  How cool is that."
     ]
    },
    {
     "cell_type": "markdown",
     "metadata": {},
     "source": [
      "## Matplitlib\n",
      "\n",
      "- [Matplotlib](http://matplotlib.org)\n",
      "- [Matplotlib Gallery](http://matplotlib.org/gallery.html)\n",
      "- [Matplotlib Examples](http://matplotlib.org/examples)"
     ]
    },
    {
     "cell_type": "code",
     "collapsed": false,
     "input": [
      "# Let's plot the random Normal Distribution\n",
      "\n",
      "# Create a 100 Element Array with mean 1 and std 0.1\n",
      "arr1 = np.random.normal(1, 0.1, 100)"
     ],
     "language": "python",
     "metadata": {},
     "outputs": []
    },
    {
     "cell_type": "code",
     "collapsed": false,
     "input": [
      "fig, ax = plt.subplots(1, 1)\n",
      "ax.hist(arr1)"
     ],
     "language": "python",
     "metadata": {},
     "outputs": []
    },
    {
     "cell_type": "code",
     "collapsed": false,
     "input": [
      "# Add a semi-colan if you don't want to see the returned BIN Values in the result\n",
      "fig, ax = plt.subplots(1, 1)\n",
      "ax.hist(arr1, bins=20);"
     ],
     "language": "python",
     "metadata": {},
     "outputs": []
    },
    {
     "cell_type": "markdown",
     "metadata": {},
     "source": [
      "#### Exercise: Now, increase the Number of Elements to 10000 and does it change the shape of the distribution?"
     ]
    },
    {
     "cell_type": "code",
     "collapsed": false,
     "input": [
      "# Your Code here to draw a distribution of 10000 element Numpy Array\n",
      "\n",
      "arr5 = np.random.normal(0.1, 0.1, 10000)\n",
      "fig, ax = plt.subplots(1, 1)\n",
      "ax.hist(arr5, bins=20);"
     ],
     "language": "python",
     "metadata": {},
     "outputs": []
    },
    {
     "cell_type": "code",
     "collapsed": false,
     "input": [],
     "language": "python",
     "metadata": {},
     "outputs": []
    }
   ],
   "metadata": {}
  }
 ]
}