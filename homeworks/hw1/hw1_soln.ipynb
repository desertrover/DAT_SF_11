{
 "metadata": {
  "name": "",
  "signature": "sha256:78e25702f71389a9b0882f47d718674b203d6f23d20b73b3010e32c0bbf17830"
 },
 "nbformat": 3,
 "nbformat_minor": 0,
 "worksheets": [
  {
   "cells": [
    {
     "cell_type": "markdown",
     "metadata": {},
     "source": [
      "#Homework 1 - Data Analysis and Regression\n",
      "In this assignment your challenge is to do some basic analysis for Airbnb. Provided in hw/data/ there are 2 data files, <a href=../data/bookings.csv>bookings.csv</a> and <a href=../data/listings.csv>listings.csv</a>. The objective is to practice data munging and begin our exploration of regression."
     ]
    },
    {
     "cell_type": "code",
     "collapsed": false,
     "input": [
      "# Standard imports for data analysis packages in Python\n",
      "import pandas as pd\n",
      "import numpy as np\n",
      "import seaborn as sns  # for pretty layout of plots\n",
      "import matplotlib.pyplot as plt\n",
      "\n",
      "\n",
      "# This enables inline Plots\n",
      "%matplotlib inline\n"
     ],
     "language": "python",
     "metadata": {},
     "outputs": []
    },
    {
     "cell_type": "markdown",
     "metadata": {},
     "source": [
      "##Part 1 - Data exploration\n",
      "###First, create 2 data frames: `listings` and `bookings` from their respective data files"
     ]
    },
    {
     "cell_type": "code",
     "collapsed": false,
     "input": [
      "bookings = pd.read_csv('../data/bookings.csv', delimiter=\",\")\n",
      "listings = pd.read_csv('../data/listings.csv', delimiter=\",\")\n",
      "\n",
      "#bookings.booking_date = pd.to_datetime(bookings.booking_date)"
     ],
     "language": "python",
     "metadata": {},
     "outputs": []
    },
    {
     "cell_type": "markdown",
     "metadata": {},
     "source": [
      "###What is the mean, median and standard deviation of price, person capacity, picture count, description length and tenure of the properties?"
     ]
    },
    {
     "cell_type": "code",
     "collapsed": false,
     "input": [
      "listings.info()"
     ],
     "language": "python",
     "metadata": {},
     "outputs": []
    },
    {
     "cell_type": "markdown",
     "metadata": {},
     "source": [
      "###What what are the mean price, person capacity, picture count, description length and tenure of the properties grouped by property type?"
     ]
    },
    {
     "cell_type": "code",
     "collapsed": false,
     "input": [
      "listings_by_prop_type = listings.groupby('prop_type')\n",
      "listings_by_prop_type.describe()"
     ],
     "language": "python",
     "metadata": {},
     "outputs": []
    },
    {
     "cell_type": "markdown",
     "metadata": {},
     "source": [
      "###Same, but by property type per neighborhood? "
     ]
    },
    {
     "cell_type": "code",
     "collapsed": false,
     "input": [
      "listings_by_neighborhood_then_prop_type = listings.groupby(['prop_type', 'neighborhood'])\n",
      "listings_by_neighborhood_then_prop_type.describe()"
     ],
     "language": "python",
     "metadata": {},
     "outputs": []
    },
    {
     "cell_type": "markdown",
     "metadata": {},
     "source": [
      "###Plot daily bookings:\n"
     ]
    },
    {
     "cell_type": "code",
     "collapsed": false,
     "input": [
      "\n",
      "bookings.prop_id.hist()"
     ],
     "language": "python",
     "metadata": {},
     "outputs": []
    },
    {
     "cell_type": "markdown",
     "metadata": {},
     "source": [
      "###Plot the daily bookings per neighborhood (provide a legend)"
     ]
    },
    {
     "cell_type": "code",
     "collapsed": false,
     "input": [],
     "language": "python",
     "metadata": {},
     "outputs": []
    },
    {
     "cell_type": "markdown",
     "metadata": {},
     "source": [
      "##Part 2 - Develop a data set"
     ]
    },
    {
     "cell_type": "code",
     "collapsed": false,
     "input": [],
     "language": "python",
     "metadata": {},
     "outputs": []
    },
    {
     "cell_type": "markdown",
     "metadata": {},
     "source": [
      "###Add the columns `number_of_bookings` and `booking_rate` (number_of_bookings/tenure_months) to your `listings` data frame"
     ]
    },
    {
     "cell_type": "code",
     "collapsed": false,
     "input": [],
     "language": "python",
     "metadata": {},
     "outputs": []
    },
    {
     "cell_type": "markdown",
     "metadata": {},
     "source": [
      "###We only want to analyze well established properties, so let's filter out any properties that have a tenure less than 10 months "
     ]
    },
    {
     "cell_type": "code",
     "collapsed": false,
     "input": [],
     "language": "python",
     "metadata": {},
     "outputs": []
    },
    {
     "cell_type": "markdown",
     "metadata": {},
     "source": [
      "###`prop_type` and `neighborhood` are categorical variables, use `get_dummies()` (http://pandas.pydata.org/pandas-docs/stable/generated/pandas.core.reshape.get_dummies.html) to transform this column of categorical data to many columns of boolean values (after applying this function correctly there should be 1 column for every prop_type and 1 column for every neighborhood category."
     ]
    },
    {
     "cell_type": "code",
     "collapsed": false,
     "input": [],
     "language": "python",
     "metadata": {},
     "outputs": []
    },
    {
     "cell_type": "markdown",
     "metadata": {},
     "source": [
      "###create test and training sets for your regressors and predictors\n",
      "predictor (y) is `booking_rate`, regressors (X) are everything else, except `prop_id`,`booking_rate`,`prop_type`,`neighborhood` and `number_of_bookings`<br>\n",
      "http://scikit-learn.org/stable/modules/generated/sklearn.cross_validation.train_test_split.html<br>\n",
      "http://pandas.pydata.org/pandas-docs/stable/basics.html#dropping-labels-from-an-axis"
     ]
    },
    {
     "cell_type": "code",
     "collapsed": false,
     "input": [
      "from sklearn.cross_validation import train_test_split"
     ],
     "language": "python",
     "metadata": {},
     "outputs": []
    },
    {
     "cell_type": "code",
     "collapsed": false,
     "input": [],
     "language": "python",
     "metadata": {},
     "outputs": []
    },
    {
     "cell_type": "markdown",
     "metadata": {},
     "source": [
      "##Part 3 - Model `booking_rate`"
     ]
    },
    {
     "cell_type": "markdown",
     "metadata": {},
     "source": [
      "###Create a linear regression model of your listings"
     ]
    },
    {
     "cell_type": "code",
     "collapsed": false,
     "input": [
      "from sklearn.linear_model import LinearRegression\n",
      "lr = LinearRegression()"
     ],
     "language": "python",
     "metadata": {},
     "outputs": []
    },
    {
     "cell_type": "markdown",
     "metadata": {},
     "source": [
      "###fit your model with your test sets"
     ]
    },
    {
     "cell_type": "code",
     "collapsed": false,
     "input": [],
     "language": "python",
     "metadata": {},
     "outputs": []
    },
    {
     "cell_type": "markdown",
     "metadata": {},
     "source": [
      "###report the score\n",
      "http://scikit-learn.org/stable/modules/generated/sklearn.linear_model.LinearRegression.html#sklearn.linear_model.LinearRegression.score"
     ]
    },
    {
     "cell_type": "code",
     "collapsed": false,
     "input": [],
     "language": "python",
     "metadata": {},
     "outputs": []
    },
    {
     "cell_type": "markdown",
     "metadata": {},
     "source": [
      "###Interpret the results of the above model:\n",
      "* What does the `score` method do?\n",
      "* What does this tell us about our model?"
     ]
    },
    {
     "cell_type": "markdown",
     "metadata": {},
     "source": [
      "...type here..."
     ]
    },
    {
     "cell_type": "markdown",
     "metadata": {},
     "source": [
      "##Optional - Iterate\n",
      "Create an alternative predictor (e.g. monthly revenue) and use the same modeling pattern in Part 3 to  "
     ]
    },
    {
     "cell_type": "code",
     "collapsed": false,
     "input": [],
     "language": "python",
     "metadata": {},
     "outputs": []
    }
   ],
   "metadata": {}
  }
 ]
}